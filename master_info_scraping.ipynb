{
 "cells": [
  {
   "cell_type": "code",
   "execution_count": 1,
   "metadata": {},
   "outputs": [],
   "source": [
    "from urllib.request import urlopen\n",
    "import re\n",
    "import pandas as pd\n",
    "import numpy as np\n",
    "import sqlite3"
   ]
  },
  {
   "cell_type": "code",
   "execution_count": 2,
   "metadata": {},
   "outputs": [],
   "source": [
    "def divide(string):\n",
    "    if 'https' in string:\n",
    "        link = re.findall('<a href=\"([0-9a-z\\./:-]*)\">', string)[0]\n",
    "        name = re.findall('>([A-ZÁÉÍÓÚÑa-záéíóúñüÜ ]*)<', string)[0].strip()\n",
    "        return [name, link]\n",
    "    else:\n",
    "        name = re.findall('([A-ZÁÉÍÓÚÑa-záéíóúñ ]*)', string)[0].strip()\n",
    "        return [name]"
   ]
  },
  {
   "cell_type": "code",
   "execution_count": null,
   "metadata": {},
   "outputs": [],
   "source": [
    "url = 'https://masteres.ugr.es/fisymat/docencia/plan-estudios'\n",
    "page = urlopen(url)\n",
    "html_bytes = page.read()\n",
    "html = html_bytes.decode(\"utf-8\")\n",
    "print(html)"
   ]
  },
  {
   "cell_type": "markdown",
   "metadata": {},
   "source": [
    "# Subject names scraping"
   ]
  },
  {
   "cell_type": "code",
   "execution_count": null,
   "metadata": {},
   "outputs": [],
   "source": [
    "subjects_pattern = '''<td>([A-Za-zÁÉÍÓÚáéíóúÑñ:\\n ]*)</td>'''\n",
    "subjects = [x.replace('\\n', '').strip() for x in re.findall(subjects_pattern, html)]\n",
    "subjects"
   ]
  },
  {
   "cell_type": "markdown",
   "metadata": {},
   "source": [
    "# Professors and e-mails scraped"
   ]
  },
  {
   "cell_type": "code",
   "execution_count": null,
   "metadata": {},
   "outputs": [],
   "source": [
    "elements = re.findall('<li>([a-zA-ZÁÉÍÓÚáéíóúñüÜ0-9 <>/:/\\.\\-\\=\"\\n]*)</li>', html)\n",
    "elements = [x.strip().replace('\\n', '') for x in elements]\n",
    "elements = [re.split('</li> *<li>', x) for x in elements]\n",
    "for i in range(len(elements)):\n",
    "    elements.extend(elements[0])\n",
    "    elements.remove(elements[0])\n",
    "elements = [x.strip().replace('  ', ' ') for x in elements]\n",
    "elements = elements[3:]\n",
    "elements = [divide(x) for x in elements]\n",
    "emails = []\n",
    "for i in range(len(elements)):\n",
    "    try:\n",
    "        emails.append(elements[i][1])\n",
    "    except:\n",
    "        emails.append(np.nan)\n",
    "        \n",
    "names = pd.DataFrame([x[0] for x in elements], columns=['Name'])\n",
    "emails = pd.DataFrame(emails, columns=['E-Mail'])\n",
    "\n",
    "data = pd.concat([names, emails], axis=1)\n",
    "data"
   ]
  },
  {
   "cell_type": "markdown",
   "metadata": {},
   "source": [
    "# Complete transaction"
   ]
  },
  {
   "cell_type": "code",
   "execution_count": null,
   "metadata": {},
   "outputs": [],
   "source": [
    "url = 'https://masteres.ugr.es/fisymat/docencia/plan-estudios'\n",
    "page = urlopen(url)\n",
    "# html_bytes = page.read()\n",
    "# html = html_bytes.decode(\"utf-8\")\n",
    "print(page.read().decode())"
   ]
  },
  {
   "cell_type": "code",
   "execution_count": null,
   "metadata": {},
   "outputs": [],
   "source": [
    "pattern = '''<td>([A-Za-zÁÉÍÓÚáéíóúÑñ\\n \\.,:]*)</td>[0-9a-zA-ZáéíóúÁÉÍÓÚÑñüÜ<>/\"=_\\- ]*<ul> *<li>([a-zA-ZÁÉÍÓÚáéíóúñüÜ0-9 <>/:/\\.\\-\\=\"\\n]*)</li> *</ul>'''\n",
    "result = re.findall(pattern, html.replace('\\n', ''))\n",
    "elements = []\n",
    "for i in range(len(result)):\n",
    "    elements.append(list(result[i]))\n",
    "del result\n",
    "for i in range(len(elements)):\n",
    "    for j in range(len(elements[i])):\n",
    "        elements[i][j] = elements[i][j].strip()\n",
    "for i in range(len(elements)):\n",
    "    elements[i][1] = re.split('</li> *<li>', elements[i][1])\n",
    "for i in range(len(elements)):\n",
    "    appender = []\n",
    "    for j in range(len(elements[i][1])):\n",
    "        appender.append(divide(elements[i][1][j]))\n",
    "    elements[i][1] = appender\n",
    "elements"
   ]
  },
  {
   "cell_type": "code",
   "execution_count": null,
   "metadata": {},
   "outputs": [],
   "source": [
    "data = pd.DataFrame(columns=['Subject', 'Professor Name', 'Professor E-Mail'])\n",
    "k = 0\n",
    "for i in range(len(elements)):\n",
    "    subject = elements[i][0]\n",
    "    for j in range(len(elements[i][1])):\n",
    "        try:\n",
    "            email = elements[i][1][j][1]\n",
    "        except:\n",
    "            email = np.nan\n",
    "        data.loc[k] = [subject, elements[i][1][j][0], email]\n",
    "        k += 1\n",
    "data"
   ]
  },
  {
   "cell_type": "markdown",
   "metadata": {},
   "source": [
    "## Save to database and read"
   ]
  },
  {
   "cell_type": "code",
   "execution_count": null,
   "metadata": {},
   "outputs": [],
   "source": [
    "data.to_sql('subjects_data', con=sqlite3.connect('data.db'))"
   ]
  },
  {
   "cell_type": "code",
   "execution_count": null,
   "metadata": {},
   "outputs": [],
   "source": [
    "con = sqlite3.connect('data.db')\n",
    "pd.read_sql('SELECT * FROM subjects_data', con=con)"
   ]
  }
 ],
 "metadata": {
  "kernelspec": {
   "display_name": "base",
   "language": "python",
   "name": "python3"
  },
  "language_info": {
   "codemirror_mode": {
    "name": "ipython",
    "version": 3
   },
   "file_extension": ".py",
   "mimetype": "text/x-python",
   "name": "python",
   "nbconvert_exporter": "python",
   "pygments_lexer": "ipython3",
   "version": "3.11.7"
  }
 },
 "nbformat": 4,
 "nbformat_minor": 2
}
